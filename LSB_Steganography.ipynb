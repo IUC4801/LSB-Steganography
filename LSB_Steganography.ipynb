{
  "nbformat": 4,
  "nbformat_minor": 0,
  "metadata": {
    "colab": {
      "name": "LSB Steganography.ipynb",
      "provenance": [],
      "toc_visible": true
    },
    "kernelspec": {
      "name": "python3",
      "display_name": "Python 3"
    },
    "language_info": {
      "name": "python"
    }
  },
  "cells": [
    {
      "cell_type": "code",
      "execution_count": 2,
      "metadata": {
        "colab": {
          "base_uri": "https://localhost:8080/"
        },
        "id": "J8spB4mpZr4W",
        "outputId": "19f3a8e0-b6ca-44dc-9ccb-d2d320a1d105"
      },
      "outputs": [
        {
          "name": "stdout",
          "output_type": "stream",
          "text": [
            "\n",
            "STEGBYTE\n",
            "\n",
            " 1. Encode \n",
            " 2. Decode \n",
            "\n",
            " Enter Here : 2\n",
            "Enter Image You Want To Extract : encoded.jpg\n"
          ]
        },
        {
          "output_type": "stream",
          "name": "stderr",
          "text": [
            "IOPub data rate exceeded.\n",
            "The notebook server will temporarily stop sending output\n",
            "to the client in order to avoid crashing it.\n",
            "To change this limit, set the config variable\n",
            "`--NotebookApp.iopub_data_rate_limit`.\n",
            "\n",
            "Current values:\n",
            "NotebookApp.iopub_data_rate_limit=1000000.0 (bytes/sec)\n",
            "NotebookApp.rate_limit_window=3.0 (secs)\n",
            "\n"
          ]
        }
      ],
      "source": [
        "import cv2\n",
        "import numpy as np\n",
        "\n",
        "\n",
        "def data2binary(data):\n",
        "    if type(data) == str:\n",
        "        return ''.join([format(ord(i),\"08b\") for i in data])\n",
        "    elif type(data) == bytes or type(data) == np.ndarray:\n",
        "        return [format(i,\"08b\") for i in data]\n",
        "\n",
        "\n",
        "def hideData(image,secret_data):\n",
        "    secret_data += \"#####\"      \n",
        "\n",
        "    data_index = 0\n",
        "    binary_data = data2binary(secret_data)\n",
        "    data_length = len(binary_data)\n",
        "    \n",
        "    for values in image:\n",
        "        for pixel in values:\n",
        "            \n",
        "            r,g,b = data2binary(pixel)\n",
        "\n",
        "            if data_index < data_length:\n",
        "                pixel[0] = int(r[:-1] + binary_data[data_index])\n",
        "                data_index += 1\n",
        "            if data_index < data_length:\n",
        "                pixel[1] = int(g[:-1] + binary_data[data_index])\n",
        "                data_index += 1\n",
        "            if data_index < data_length:\n",
        "                pixel[2] = int(b[:-1] + binary_data[data_index])\n",
        "                data_index += 1\n",
        "            if data_index >= data_length:\n",
        "                break\n",
        "\n",
        "    return image\n",
        "            \n",
        "    \n",
        "def encode_text():\n",
        "    image_name = input(\"Enter Cover Image Name : \")\n",
        "    image = cv2.imread(image_name)\n",
        "\n",
        "    data = input(\"Enter The Text You Want To Hide : \")\n",
        "    if data == 0:\n",
        "        raise ValueError(\"Data is Empty ... \")\n",
        "\n",
        "    file_name = input(\"Enter The Encoded Image Name : \")\n",
        "\n",
        "    encoded_data = hideData(image,data)\n",
        "    cv2.imwrite(file_name,encoded_data) \n",
        "\n",
        "def show_data(image):\n",
        "    binary_data = \"\"\n",
        "    for values in image:\n",
        "        for pixel in values:\n",
        "            r,g,b = data2binary(pixel)\n",
        "            \n",
        "            binary_data += r[-1]\n",
        "            binary_data += g[-1]\n",
        "            binary_data += b[-1]\n",
        "\n",
        "    all_bytes = [binary_data[i: i+8] for i in range (0,len(binary_data),8)]\n",
        "\n",
        "    decoded_data = \"\"\n",
        "    for byte in all_bytes:\n",
        "        decoded_data += chr(int(byte,2))\n",
        "        if decoded_data[-5:] == \"#####\":\n",
        "            break\n",
        "\n",
        "    return decoded_data[:-5]\n",
        "\n",
        "\n",
        "\n",
        "def decode_text():\n",
        "    image_name = input(\"Enter Image You Want To Extract : \")\n",
        "    image = cv2.imread(image_name)\n",
        "\n",
        "    text=show_data(image)       \n",
        "    return text\n",
        "\n",
        "def stegnography():\n",
        "    userinput = int(input(\"\\nSTEGBYTE\\n\\n 1. Encode \\n 2. Decode \\n\\n Enter Here : \"))\n",
        "    if userinput == 1:\n",
        "        encode_text()\n",
        "    else:\n",
        "        final_data=decode_text()\n",
        "        print(\"\\nDecoded Data : \",final_data)\n",
        "\n",
        "stegnography()"
      ]
    },
    {
      "cell_type": "code",
      "source": [
        ""
      ],
      "metadata": {
        "id": "Hq3E-lfXaEIt"
      },
      "execution_count": null,
      "outputs": []
    }
  ]
}